{
  "nbformat": 4,
  "nbformat_minor": 0,
  "metadata": {
    "colab": {
      "name": "Tenserflow.ipynb",
      "provenance": [],
      "authorship_tag": "ABX9TyO06q9RuQzOTHHKD4mivNQ7",
      "include_colab_link": true
    },
    "kernelspec": {
      "name": "python3",
      "display_name": "Python 3"
    }
  },
  "cells": [
    {
      "cell_type": "markdown",
      "metadata": {
        "id": "view-in-github",
        "colab_type": "text"
      },
      "source": [
        "<a href=\"https://colab.research.google.com/github/abhi-vermaji/abhi-vermaji.github.io/blob/main/Tenserflow.ipynb\" target=\"_parent\"><img src=\"https://colab.research.google.com/assets/colab-badge.svg\" alt=\"Open In Colab\"/></a>"
      ]
    },
    {
      "cell_type": "code",
      "metadata": {
        "colab": {
          "base_uri": "https://localhost:8080/"
        },
        "id": "8dvJFQ0HGOw3",
        "outputId": "14c0e956-db1e-49a1-ba49-69a965a8c0b4"
      },
      "source": [
        "import tensorflow as tf\r\n",
        "print(tf.version)"
      ],
      "execution_count": 3,
      "outputs": [
        {
          "output_type": "stream",
          "text": [
            "<module 'tensorflow._api.v2.version' from '/usr/local/lib/python3.6/dist-packages/tensorflow/_api/v2/version/__init__.py'>\n"
          ],
          "name": "stdout"
        }
      ]
    },
    {
      "cell_type": "code",
      "metadata": {
        "colab": {
          "base_uri": "https://localhost:8080/"
        },
        "id": "hXcJQzIJHuk5",
        "outputId": "073685e2-3dba-43d3-8089-9ea3d51f0353"
      },
      "source": [
        "import tensorflow.compat.v1 as tf\r\n",
        "tf.disable_v2_behavior()"
      ],
      "execution_count": 6,
      "outputs": [
        {
          "output_type": "stream",
          "text": [
            "WARNING:tensorflow:From /usr/local/lib/python3.6/dist-packages/tensorflow/python/compat/v2_compat.py:96: disable_resource_variables (from tensorflow.python.ops.variable_scope) is deprecated and will be removed in a future version.\n",
            "Instructions for updating:\n",
            "non-resource variables are not supported in the long term\n"
          ],
          "name": "stdout"
        }
      ]
    },
    {
      "cell_type": "code",
      "metadata": {
        "colab": {
          "base_uri": "https://localhost:8080/"
        },
        "id": "db8-nSnvI9vL",
        "outputId": "40d1da38-e749-48a1-8362-c8bc6c8b780e"
      },
      "source": [
        "h_c=tf.constant('Hello World')\r\n",
        "h_c"
      ],
      "execution_count": 7,
      "outputs": [
        {
          "output_type": "execute_result",
          "data": {
            "text/plain": [
              "<tf.Tensor 'Const:0' shape=() dtype=string>"
            ]
          },
          "metadata": {
            "tags": []
          },
          "execution_count": 7
        }
      ]
    },
    {
      "cell_type": "code",
      "metadata": {
        "colab": {
          "base_uri": "https://localhost:8080/"
        },
        "id": "ozl5O_x3LIUq",
        "outputId": "599ed9d8-455f-456b-917f-ff8be44cfee9"
      },
      "source": [
        "ts=tf.Session()\r\n",
        "print(ts.run(h_c))"
      ],
      "execution_count": 10,
      "outputs": [
        {
          "output_type": "stream",
          "text": [
            "b'Hello World'\n"
          ],
          "name": "stdout"
        }
      ]
    },
    {
      "cell_type": "code",
      "metadata": {
        "colab": {
          "base_uri": "https://localhost:8080/"
        },
        "id": "wS0WV-3XLRsR",
        "outputId": "b32f5602-2c5e-4750-8c6e-dd53b9ad1745"
      },
      "source": [
        "a=tf.constant(10,tf.int16)\r\n",
        "b=tf.constant(5,tf.int16)\r\n",
        "add=a+b\r\n",
        "sub=a-b\r\n",
        "mul=a*b\r\n",
        "div=a/b\r\n",
        "print(ts.run([add,sub,mul,div]))"
      ],
      "execution_count": 11,
      "outputs": [
        {
          "output_type": "stream",
          "text": [
            "[15, 5, 50, 2.0]\n"
          ],
          "name": "stdout"
        }
      ]
    },
    {
      "cell_type": "code",
      "metadata": {
        "colab": {
          "base_uri": "https://localhost:8080/"
        },
        "id": "K4uk6z4ANbqy",
        "outputId": "904edd6e-7039-470e-c0f3-4cd23d0eaacb"
      },
      "source": [
        "s=tf.Variable(\"This is string\",tf.string)\r\n",
        "n=tf.Variable(235,tf.int32)\r\n",
        "f=tf.Variable(3.14,tf.float32)\r\n",
        "init=tf.global_variables_initializer()\r\n",
        "ts.run(init)\r\n",
        "print(ts.run(s))\r\n",
        "print(ts.run(n))\r\n",
        "print(ts.run(f))"
      ],
      "execution_count": 17,
      "outputs": [
        {
          "output_type": "stream",
          "text": [
            "b'This is string'\n",
            "235\n",
            "3.14\n"
          ],
          "name": "stdout"
        }
      ]
    },
    {
      "cell_type": "code",
      "metadata": {
        "colab": {
          "base_uri": "https://localhost:8080/"
        },
        "id": "IupK7WVyQ8Q1",
        "outputId": "099e790a-3f5b-4778-f3fc-01017f155d2d"
      },
      "source": [
        "a=tf.placeholder(tf.float32)\r\n",
        "b=tf.placeholder(tf.float32)\r\n",
        "add=a+b\r\n",
        "sub=a-b\r\n",
        "mul=a*b\r\n",
        "div=a/b\r\n",
        "print(ts.run(add,feed_dict={a:[1,2,0,3],b:[2,3,5,4]}))\r\n",
        "print(ts.run(mul,feed_dict={a:[1,2,3],b:[3,4,5]}))\r\n",
        "print(ts.run(sub,feed_dict={a:[1,2,3],b:[5,1,6]}))\r\n",
        "print(ts.run(div,feed_dict={a:[10,5,1],b:[5,2,6]}))"
      ],
      "execution_count": 22,
      "outputs": [
        {
          "output_type": "stream",
          "text": [
            "[3. 5. 5. 7.]\n",
            "[ 3.  8. 15.]\n",
            "[-4.  1. -3.]\n",
            "[2.         2.5        0.16666667]\n"
          ],
          "name": "stdout"
        }
      ]
    },
    {
      "cell_type": "code",
      "metadata": {
        "id": "NfHQi5gUaWMU"
      },
      "source": [
        "#work on tensor\r\n",
        "rank1_tensor=tf.Variable(['he','is','a','good','boy'],tf.string)\r\n",
        "rank2_tensor=tf.Variable([['hello','hi'],['bye','bye'],['km','km']],tf.string)"
      ],
      "execution_count": 31,
      "outputs": []
    },
    {
      "cell_type": "code",
      "metadata": {
        "colab": {
          "base_uri": "https://localhost:8080/"
        },
        "id": "i-QWnejy2JsB",
        "outputId": "46ec7d10-3259-4619-933f-a8ed4665eb16"
      },
      "source": [
        "tf.rank(rank1_tensor)"
      ],
      "execution_count": 32,
      "outputs": [
        {
          "output_type": "execute_result",
          "data": {
            "text/plain": [
              "<tf.Tensor 'Rank_2:0' shape=() dtype=int32>"
            ]
          },
          "metadata": {
            "tags": []
          },
          "execution_count": 32
        }
      ]
    },
    {
      "cell_type": "code",
      "metadata": {
        "colab": {
          "base_uri": "https://localhost:8080/"
        },
        "id": "1wHzBuz83pBl",
        "outputId": "ec736ce3-8b16-4473-ddfa-9fc5f80462b6"
      },
      "source": [
        "tf.rank(rank2_tensor)"
      ],
      "execution_count": 37,
      "outputs": [
        {
          "output_type": "execute_result",
          "data": {
            "text/plain": [
              "<tf.Tensor 'Rank_5:0' shape=() dtype=int32>"
            ]
          },
          "metadata": {
            "tags": []
          },
          "execution_count": 37
        }
      ]
    },
    {
      "cell_type": "code",
      "metadata": {
        "colab": {
          "base_uri": "https://localhost:8080/"
        },
        "id": "3vz53WDW3t-1",
        "outputId": "d34e278c-4498-474c-e262-792591632245"
      },
      "source": [
        "print(rank1_tensor.shape)"
      ],
      "execution_count": 34,
      "outputs": [
        {
          "output_type": "stream",
          "text": [
            "(5,)\n"
          ],
          "name": "stdout"
        }
      ]
    },
    {
      "cell_type": "code",
      "metadata": {
        "colab": {
          "base_uri": "https://localhost:8080/"
        },
        "id": "WLk911M4300s",
        "outputId": "9a04ae1b-5a94-474b-97ea-0344dd7cc5a5"
      },
      "source": [
        "print(rank2_tensor.shape)"
      ],
      "execution_count": 35,
      "outputs": [
        {
          "output_type": "stream",
          "text": [
            "(3, 2)\n"
          ],
          "name": "stdout"
        }
      ]
    },
    {
      "cell_type": "code",
      "metadata": {
        "id": "bMGbM_YG35t8"
      },
      "source": [
        ""
      ],
      "execution_count": null,
      "outputs": []
    }
  ]
}